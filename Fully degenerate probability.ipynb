{
 "cells": [
  {
   "cell_type": "markdown",
   "metadata": {},
   "source": [
    "# Fully Degenerate Path Probability"
   ]
  },
  {
   "cell_type": "markdown",
   "metadata": {},
   "source": [
    "In some system having time-homogeneous transition rate matrix $R$ and initial probability distribution $p(x_{0},t_{0})$, the probability of a path $p(\\mathcal{C}_{n})$ can be determined such that it includes the probability of all trajectories that follow that path:\n",
    "\\begin{equation}\n",
    "p(\\mathcal{C}_{n})=p(x_{0},t_{0}) \\prod\\limits_{i=0}\\limits^{n-1} \\frac{w(x_{i+1} \\vert x_{i})}{w_{x_{i}}} \\label{pcn}\n",
    "\\end{equation}\n",
    "This formula uses the transition rates among states $w(x_{i+1} \\vert x_{i})$ as given by the transition rate matrix and the total escape rate from a state:\n",
    "\\begin{equation}\n",
    "w_{x_{i}} = \\sum\\limits_{\\substack{j=0 \\\\ \\neq i}}\\limits^{n} w(x_{j} \\vert x_{i})\n",
    "\\end{equation}\n",
    "This path probability formula has a variety of uses. However, it lacks information about the completion time of the trajectories that follow that path. Conversely, a contracted path probability includes the probability of only those trajectories following that path that complete within some amount of time $\\tau$. \n",
    "\n",
    "This contracted path probability is a consequence of the wait time distribution at each state. The wait time is the amount of time the system stays in one state before transitioning to the next state along the path. The distribution of wait times from a particular state $x_{i}$ is an exponential distribution with respect to the escape rate from that state:\n",
    "\\begin{equation}\n",
    "\\rho(\\Delta t_{i} \\vert x_{i}) = w_{x_{i}} e^{-\\Delta t_{i} w_{x_{i}}}\n",
    "\\end{equation}\n",
    "The path probaility is given by the convolution of each of the wait time distributions along the path times the path probability in the first equation:\n",
    "\\begin{align}\n",
    "p(\\mathcal{C}_{n},\\tau) &=p(x_{0},t_{0})\\prod\\limits_{i=0}\\limits^{n-1} \\frac{w(x_{i+1} \\vert x_{i})}{w_{x_{i}}} \\rho(\\Delta t_{0} \\vert x_{0})*\\rho(\\Delta t_{1} \\vert x_{1})*...*\\rho(\\Delta t_{n-1} \\vert x_{n-1})*e^{-w_{x_{n}}(t-t_{n})} \\\\\n",
    "&= p(x_{0},t_{0})\\prod\\limits_{i=0}\\limits^{n-1} \\frac{w(x_{i+1} \\vert x_{i})}{w_{x_{i}}} \\int_{t_{0}}^{t} dt_{1} w_{x_{0}} e^{-w_{x_{0}}(t_{1}-t_{0})} \\times ... \\times \\int_{t_{n-1}}^{t} dt_{n} w_{x_{n-1}} e^{-w_{x_{n-1}}(t_{n}-t_{n-1})} \\times e^{-w_{x_n}(t-t_{n})}\n",
    "\\end{align}\n",
    "This contracted path probability has a general form that applies to all paths.  However, this formula can be simplified in two cases:\n",
    "\n",
    "$\\bullet$ fully degenerate path\n",
    "\n",
    "$\\bullet$ non-degenerate path\n",
    "\n",
    "A path can be fully degenerate, partially degenerate, or non-degenerate based upon the escape rates of the states along the path. A path can be fully degenerate without all of its states being the same, as two states can have the same escape rate. By extension, a path must not include two instances of the same state or of two states with the same escape rate in order for it to be non-degenerate. The fully degenerate path probability is given by\n",
    "\\begin{equation}\n",
    "p(\\mathcal{C}_{n},\\tau) = p(x_{0},t_{0})\\sum\\limits_{i=0}\\limits^{n-1} w(x_{i+1} \\vert x_{i}) \\frac{(t-t_{0})^{n} e^{-w(t-t_{0})}}{n!} .\n",
    "\\end{equation}\n",
    "This path probability is closely related to the Erlang distribution:\n",
    "\\begin{equation}\n",
    "\\rho (x \\in [ 0,\\infty )) = \\frac{\\lambda^{k} x^{k-1} e^{-\\lambda x}}{(k-1)!}\n",
    "\\end{equation}\n",
    "when we consider the support to be $\\tau=t-t_{0}=x \\in [ 0,\\infty )$, the shape parmeter $k$ to be the path length $n$, and the rate parameter $w_{x}=w=\\lambda$. Due to this similarity, we know that the mean path occurrence time $\\langle \\tau \\rangle_{\\mathcal{C}_{n}}$ is given by the mean of the Erlang distribution\n",
    "\\begin{equation}\n",
    "\\langle \\tau \\rangle_{\\mathcal{C}_{n}} = \\frac{n}{w_{x}},\n",
    "\\end{equation}\n",
    "and the variance in the path occurrence time $\\sigma^{2}_{\\mathcal{C}_{n}} (\\tau)$ is given by the variance of the Erlang distribution:\n",
    "\\begin{equation}\n",
    "\\sigma^{2}_{\\mathcal{C}_{n}} = \\frac{n}{w_{x}^{2}}.\n",
    "\\end{equation}"
   ]
  },
  {
   "cell_type": "markdown",
   "metadata": {},
   "source": [
    "# Example"
   ]
  },
  {
   "cell_type": "markdown",
   "metadata": {},
   "source": [
    "As an example, we consider a 4-state Markov model in which all transition rates are $w_{x}=2$. Thus, all escape rates are the same. Every path evolved for this model is fully degenerate. We shall look at the contracted path probabilities, mean path occurrence times, and variance of path occurrence times for three lengths of paths."
   ]
  },
  {
   "cell_type": "code",
   "execution_count": 3,
   "metadata": {},
   "outputs": [
    {
     "name": "stdout",
     "output_type": "stream",
     "text": [
      "For a path of length n= 2\n",
      "Path probability:\n",
      "0.004957504353332717\n",
      "Mean occurrence time:\n",
      "0.3333333333333333\n",
      "Variance of occurrence time:\n",
      "0.05555555555555555\n",
      "For a path of length n= 3\n",
      "Path probability:\n",
      "6.553826510216756e-05\n",
      "Mean occurrence time:\n",
      "0.5\n",
      "Variance of occurrence time:\n",
      "0.013888888888888888\n",
      "For a path of length n= 4\n",
      "Path probability:\n",
      "8.22418906214482e-07\n",
      "Mean occurrence time:\n",
      "0.6666666666666666\n",
      "Variance of occurrence time:\n",
      "0.0030864197530864196\n"
     ]
    }
   ],
   "source": [
    "# Modules\n",
    "import math\n",
    "\n",
    "# Function to determine fully degenerate path probability\n",
    "def det_prob(wxn,n,tau,wcon,initialp):\n",
    "    # Initial probability\n",
    "    pr = initialp\n",
    "    # Conditional probabilities\n",
    "    for i in range(0,n):\n",
    "        pr*=wcon\n",
    "    # Factorial\n",
    "    for i in range(1,n+1):\n",
    "        pr/=i\n",
    "    # Power of tau\n",
    "    pr*=math.pow(tau,n)\n",
    "    # Exponential\n",
    "    pr*=math.exp(-1*wxn*tau)\n",
    "    # Return result\n",
    "    return pr\n",
    "    \n",
    "# Function to determine mean path occurrence time\n",
    "def det_mean(wxn,n):\n",
    "    # Determine mean\n",
    "    mn = n/wxn\n",
    "    # Return result\n",
    "    return mn\n",
    "    \n",
    "# Function to determine variance of path occurrence time\n",
    "def det_var(wxn,n):\n",
    "    # n values\n",
    "    vr = n\n",
    "    # Square of escape rate\n",
    "    vr/=math.pow(wxn,n)\n",
    "    # Return result\n",
    "    return vr\n",
    "    \n",
    "# Wrapper function\n",
    "def main():\n",
    "    # Time scale of interest\n",
    "    dt = 1\n",
    "    # System\n",
    "    pinit = [1,0,0,0]\n",
    "    R = [[0 for i in range(4)] for j in range(4)]\n",
    "    R[0][:] = [-6,2,2,2]\n",
    "    R[1][:] = [2,-6,2,2]\n",
    "    R[2][:] = [2,2,-6,2]\n",
    "    R[3][:] = [2,2,2,-6]\n",
    "    # Determine escape rates\n",
    "    M = len(pinit)\n",
    "    wx = [0]*(M)\n",
    "    for i in range(0,M):\n",
    "        wx[i] = -1*R[i][i]\n",
    "    # Arrays for results\n",
    "    probs = [0]*(3)\n",
    "    means = [0]*(3)\n",
    "    vari = [0]*(3)\n",
    "    # Main determinations\n",
    "    for n in range(2,5):\n",
    "        tau = (n-1)\n",
    "        tau*=dt\n",
    "        probs[n-2] = det_prob(wx[0],n,tau,R[0][1],pinit[0])\n",
    "        means[n-2] = det_mean(wx[0],n)\n",
    "        vari[n-2] = det_var(wx[0],n)\n",
    "        # Printing\n",
    "        print(\"For a path of length n=\",n)\n",
    "        print(\"Path probability:\")\n",
    "        print(probs[n-2])\n",
    "        print(\"Mean occurrence time:\")\n",
    "        print(means[n-2])\n",
    "        print(\"Variance of occurrence time:\")\n",
    "        print(vari[n-2])\n",
    "        \n",
    "main()"
   ]
  },
  {
   "cell_type": "code",
   "execution_count": null,
   "metadata": {},
   "outputs": [],
   "source": []
  }
 ],
 "metadata": {
  "kernelspec": {
   "display_name": "Python 3",
   "language": "python",
   "name": "python3"
  },
  "language_info": {
   "codemirror_mode": {
    "name": "ipython",
    "version": 3
   },
   "file_extension": ".py",
   "mimetype": "text/x-python",
   "name": "python",
   "nbconvert_exporter": "python",
   "pygments_lexer": "ipython3",
   "version": "3.6.5"
  }
 },
 "nbformat": 4,
 "nbformat_minor": 2
}
